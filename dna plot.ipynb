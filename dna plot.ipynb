{
 "cells": [
  {
   "cell_type": "code",
   "execution_count": null,
   "metadata": {},
   "outputs": [],
   "source": [
    "# Necessary imports\n",
    "import matplotlib.pyplot as plt\n",
    "import numpy as np\n",
    "import pandas as pd\n",
    "\n",
    "from matplotlib.collections import PatchCollection\n",
    "from matplotlib.patches import Rectangle\n",
    "from string import ascii_uppercase\n",
    "from IPython.display import display"
   ]
  },
  {
   "cell_type": "code",
   "execution_count": null,
   "metadata": {},
   "outputs": [],
   "source": [
    "# Read file\n",
    "exc = pd.read_excel(\"Data_figureB.xlsx\")\n",
    "\n",
    "casenames = np.sort(exc[\"case\"].unique())\n",
    "case_translation = pd.DataFrame({\"case\": casenames, \"ID\": list(ascii_uppercase[:casenames.size])})\n",
    "\n",
    "display(case_translation)"
   ]
  },
  {
   "cell_type": "code",
   "execution_count": null,
   "metadata": {},
   "outputs": [],
   "source": [
    "# Constants\n",
    "chromosome_lengths = [249250621,243199373,198022430,191154276,180915260,171115067,159138663,146364022,141213431,135534747,135006516,133851895,115169878,107349540,102531392,90354753,81195210,78077248,59128983,63025520,48129895,51304566]\n",
    "#chromosome_lengths = np.ceil(np.array(chromosome_lengths) / 60000) * 60000\n",
    "total_chromosome_length = sum(chromosome_lengths)\n",
    "chromosome_starts = np.cumsum(np.concatenate(([0], chromosome_lengths)))\n",
    "\n",
    "colors = {\n",
    "    \"gain\": {True: \"Red\",\n",
    "            False: \"LightPink\"\n",
    "            },\n",
    "    \"loss\": {True: \"Blue\",\n",
    "             False: \"LightBlue\"\n",
    "            }\n",
    "}\n",
    "\n",
    "\n",
    "\n",
    "def render_aberrations(axes, cases, labels, effectlimit=3, boxheight=0.8):\n",
    "    # Data should be a list of cases, where each case is a list of tuples [chromosome, start, end, gain/loss, effect]\n",
    "    \n",
    "    # Generate effect patches\n",
    "    patches = []\n",
    "    for i, case in enumerate(cases):\n",
    "        base = i + (1-boxheight)/2\n",
    "        \n",
    "        for chromosome, inc_start, inc_end, gainorloss, effect in case:\n",
    "            color = colors[gainorloss][effect>effectlimit]\n",
    "            start = chromosome_starts[chromosome] + inc_start\n",
    "            end   = chromosome_starts[chromosome] + inc_end\n",
    "            patches.append(Rectangle(xy=(start, base), width=end-start, height=boxheight, facecolor=color))\n",
    "            \n",
    "    # Render patches and set plot limits\n",
    "    ax.add_collection(PatchCollection(patches, match_original=True, antialiased=False))\n",
    "    ax.set_xlim((0, total_chromosome_length))\n",
    "    ax.set_ylim((0, len(cases)))\n",
    "\n",
    "    ax.set_yticks(np.arange(0.5, len(cases)+1))\n",
    "    ax.set_yticklabels(labels)\n",
    "\n",
    "    # Add ticks to chromosome boundaries and add label inbetween ticks\n",
    "    ax.set_xticks(chromosome_starts)\n",
    "    ax.set_xticklabels([])\n",
    "    ax.tick_params(axis='x', which='major', length=15)\n",
    "\n",
    "    ax.set_xticks((chromosome_starts[1:] + chromosome_starts[:-1]) / 2, minor=True)\n",
    "    ax.set_xticklabels(np.arange(1, 23), minor=True)\n",
    "    ax.tick_params(axis='x', which='minor', length=0)\n",
    "\n",
    "    ax.grid(axis='x', linestyle=':')"
   ]
  },
  {
   "cell_type": "code",
   "execution_count": null,
   "metadata": {},
   "outputs": [],
   "source": [
    "grouped_data = exc.groupby(\"case\")\n",
    "\n",
    "labels = []\n",
    "all_data = []\n",
    "\n",
    "for case, data in grouped_data:\n",
    "    labels.append(case_translation.ID.values[case_translation.case == case][0])\n",
    "    all_data.append(data.loc[:, [\"chromosome\", \"start\", \"end\", \"gain/loss\", \"effect\"]].to_numpy())"
   ]
  },
  {
   "cell_type": "code",
   "execution_count": null,
   "metadata": {},
   "outputs": [],
   "source": [
    "# Figure setup\n",
    "fig = plt.figure(figsize=(16,8))\n",
    "ax = fig.add_subplot(111)\n",
    "\n",
    "render_aberrations(ax, all_data, labels)\n",
    "\n",
    "# Frågor:\n",
    "# - Bör vi runda upp kromosomgränserna till närmsta 'binsize'-tal för att undvika spillover?\n",
    "# - Hur hanterar vi överlappande fynd? (ex ichor v WC)"
   ]
  }
 ],
 "metadata": {
  "kernelspec": {
   "display_name": "Python 3",
   "language": "python",
   "name": "python3"
  },
  "language_info": {
   "codemirror_mode": {
    "name": "ipython",
    "version": 3
   },
   "file_extension": ".py",
   "mimetype": "text/x-python",
   "name": "python",
   "nbconvert_exporter": "python",
   "pygments_lexer": "ipython3",
   "version": "3.7.1"
  }
 },
 "nbformat": 4,
 "nbformat_minor": 2
}
